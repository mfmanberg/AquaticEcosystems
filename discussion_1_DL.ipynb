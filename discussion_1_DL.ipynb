{
  "cells": [
    {
      "cell_type": "markdown",
      "metadata": {
        "id": "view-in-github",
        "colab_type": "text"
      },
      "source": [
        "<a href=\"https://colab.research.google.com/github/mfmanberg/AquaticEcosystems/blob/main/discussion_1_DL.ipynb\" target=\"_parent\"><img src=\"https://colab.research.google.com/assets/colab-badge.svg\" alt=\"Open In Colab\"/></a>"
      ]
    },
    {
      "cell_type": "markdown",
      "metadata": {
        "id": "roKnXfnkj_mO"
      },
      "source": [
        "# CDSDS 542 Deep Learning for Data Science - Discussion 1"
      ]
    },
    {
      "cell_type": "markdown",
      "metadata": {
        "id": "Xmuv5761kHN7"
      },
      "source": [
        "### Introduction\n",
        "- Introduction to PyTorch\n",
        "- Fundamental Tensor Operations and Methods\n",
        "\n",
        "Install and import PyTorch:\n",
        "- install instructions: https://pytorch.org/get-started/previous-versions/\n",
        "- PyTorch tutorials: https://pytorch.org/tutorials/\n"
      ]
    },
    {
      "cell_type": "code",
      "execution_count": null,
      "metadata": {
        "id": "Fi_TFqAjnRJe"
      },
      "outputs": [],
      "source": [
        "# CPU\n",
        "#!pip3 install -q torch torchvision --index-url https://download.pytorch.org/whl/cpu\n",
        "# GPU\n",
        "#!pip3 install -q torch torchvision --index-url https://download.pytorch.org/whl/cu126"
      ]
    },
    {
      "cell_type": "code",
      "execution_count": null,
      "metadata": {
        "id": "NUv5-owYioIm"
      },
      "outputs": [],
      "source": [
        "# imports\n",
        "import numpy as np\n",
        "\n",
        "import torch\n",
        "import torchvision\n",
        "import torchvision.transforms as transforms\n",
        "import torch.nn as nn\n",
        "import torch.optim as optim"
      ]
    },
    {
      "cell_type": "code",
      "execution_count": null,
      "metadata": {
        "colab": {
          "base_uri": "https://localhost:8080/"
        },
        "id": "_giqA6kCaquq",
        "outputId": "b544f1c8-eb61-43cb-9ad4-e326bb2b51d9"
      },
      "outputs": [
        {
          "name": "stdout",
          "output_type": "stream",
          "text": [
            "PyTorch version: 2.8.0+cu126\n",
            "CUDA available: True\n"
          ]
        }
      ],
      "source": [
        "# check version\n",
        "print(\"PyTorch version:\", torch.__version__)\n",
        "\n",
        "# check CUDA availability\n",
        "print(\"CUDA available:\", torch.cuda.is_available())"
      ]
    },
    {
      "cell_type": "markdown",
      "metadata": {
        "id": "DpDQ-3euKLFh"
      },
      "source": [
        "### 1. Introduction to PyTorch\n",
        "####  Origin Story\n",
        "\n",
        "Picture the early 2000s, when there was a need to develop ML frameworks that were flexible enough for daily research tasks. Out of this need, the Torch framework was born. Torch was released in 2002 out of the efforts of Ronan Collobert, Koray Kavukcuoglu, and Clement Farabet. It was later picked up by Facebook AI Research and many other people from several universities and research groups. Although Torch did give the required flexibility, it was written in Lua, which was not a very popular language, and the major drawback the community faced was the learning curve to the new language.\n",
        "\n",
        "The widespread acceptance of Pyhon in the ML community made the developers pivot to Python, and thus the Python based version of Torch a.k.a PyTorch was born. PyTorch began as an internship project by Adam Paszke, who was working under Soumith Chintala, a core developer of Torch.\n",
        "\n",
        "Ref: https://subscription.packtpub.com/book/data/9781788834131/1/ch01lvl1sec02/understanding-pytorch-s-history\n",
        "\n",
        "#### Deep Learning Framework \\& Why PyTorch?\n",
        "\n",
        "PyTorch is an open-source machine learning framework that allows you to write your own neural networks and optimize them efficiently. It was primarily developed by Facebook's AI Research Lab (FAIR). It is based on the Torch library, which is a scientific computing framework with wide support for machine learning algorithms. PyTorch is a Python package that provides two high-level features:\n",
        "* A replacement for NumPy to use the power of GPUs and other accelerators.\n",
        "* An automatic differentiation library that is useful to implement neural networks.\n",
        "\n",
        "#### Why use PyTorch?\n",
        "1. PyTorch is Pythonic: Ease of using Popular Python packages like NumPy, SciPy, etc to extend the functionality of PyTorch.\n",
        "2. Easy to Learn: Due to its easy and intuitive syntax.\n",
        "3. Strong Community Support: PyTorch has a strong community of developers and researchers who have contributed to the framework. When in doubt, you may most likely see a solution to your problem on https://discuss.pytorch.org/.\n",
        "\n",
        "Pytorch Governence: https://pytorch.org/docs/stable/community/governance.html"
      ]
    },
    {
      "cell_type": "markdown",
      "metadata": {
        "id": "9FkJ-HUImcwQ"
      },
      "source": [
        "### 2. Understanding Tensors\n",
        "\n",
        "Tensors are the basic building blocks of modern deep learning frameworks. A tensor is a generalization of vectors and matrices and is easily understood as a multidimensional array. A tensor can be a number, a vector, a matrix, or an n-dimensional array, or in general terms a container storing numerical values.\n",
        "\n",
        "Recommended viewing to understand tensors: What's a Tensor? - Dan Fleisch (https://www.youtube.com/watch?v=f5liqUk0ZTw)\n",
        "\n",
        "##### Types of Tensor:\n",
        "* Scalar / 0-D tensor: A container with a single value. (Ex: 23, 5, 2, etc)\n",
        "* Vector / 1-D tensor: A container with multiple values. (Ex: [1, 2, 3, 4, 5])\n",
        "* Matrix / 2-D tensor: A container with multiple values arranged in rows and columns. (Ex: [[1, 2, 3], [4, 5, 6], [7, 8, 9]])\n",
        "* In general, 2-D tensors are called matrices (Matrix, if singular), and anything above 2-D are just called tensors.\n",
        "\n",
        "##### Rank of a Tensor:\n",
        "\n",
        "A tensor of rank 1 is a vector, which is a one-dimensional array,\n",
        "```python\n",
        "[a,b]\n",
        "```\n",
        "A tensor of rank 2 is a vector of vectors, or a matrix, or a two-dimensional array,\n",
        "```python\n",
        "[[a,b],[c,d]]\n",
        "```\n",
        "A tensor of rank 3 is a vector of vectors of vectors, so something with three nestings,\n",
        "```python\n",
        "[[[a,b],[c,d]],[[e,f],[g,h]]]\n",
        "```\n",
        "and so on...\n",
        "\n",
        "Broadly, a tensor can be understood to be a vector of vectors of vectors of vectors... and so on. The rank is the number of nestings of \"of vectors\".\n",
        "\n",
        "Or in other words, Rank can be described as the number of information needed to specify a particular element of a tensor. For example, to specify an element in a 2-D tensor, we need 2 pieces of information, the row and the column. So, the rank of a 2-D tensor is 2.\n",
        "\n",
        "#### Pitfall:\n",
        "##### Are Matrices and 2-D tensors the same?    \n",
        "\n",
        "A 2-D tensor can be represented by a matrix, but there is more to a tensor than just its arrangement of numerical values. A tensor is a geometric object, whose components obey certain transformation laws. A matrix is just a collection of numbers in a rectangular array, there's no inherent rule that they have to obey any transformation rules.\n",
        "\n",
        "Video is a series of images correlated over time. We can use tensors to represent that correlation better and more intuitively than trying to convert it down to two-dimensional matrices. A third-rank tensor can encode all the aspects of each image (height, width, and color), while a rank-4 tensor could also hold information about time or order for the images."
      ]
    },
    {
      "cell_type": "markdown",
      "metadata": {
        "id": "leIuiitZbg1k"
      },
      "source": [
        "#### 2.1 Create Tensors"
      ]
    },
    {
      "cell_type": "code",
      "execution_count": null,
      "metadata": {
        "colab": {
          "base_uri": "https://localhost:8080/"
        },
        "id": "tLH8wbFPKMEv",
        "outputId": "72fd4610-7347-42da-f22a-4b7b7f0325ac"
      },
      "outputs": [
        {
          "data": {
            "text/plain": [
              "tensor([1., 2., 3.], requires_grad=True)"
            ]
          },
          "execution_count": 4,
          "metadata": {},
          "output_type": "execute_result"
        }
      ],
      "source": [
        "t = torch.tensor([1, 2, 3],\n",
        "                 dtype=torch.float32,\n",
        "                 device='cpu',\n",
        "                 requires_grad=True)\n",
        "t"
      ]
    },
    {
      "cell_type": "code",
      "execution_count": null,
      "metadata": {
        "colab": {
          "base_uri": "https://localhost:8080/"
        },
        "id": "efglLakmbmJj",
        "outputId": "3fb6651d-5c2b-4b59-b20c-be33f67caa12"
      },
      "outputs": [
        {
          "name": "stdout",
          "output_type": "stream",
          "text": [
            "Shape of scalar: torch.Size([]), vector: torch.Size([3]), matrix: torch.Size([2, 3])\n",
            "Number of dimensions of scalar: 0, vector: 1, matrix: 2\n"
          ]
        }
      ],
      "source": [
        "# scalar\n",
        "scalar = torch.tensor(10)\n",
        "\n",
        "# vector\n",
        "vector = torch.tensor([10, 20, 30])\n",
        "\n",
        "# matrix\n",
        "matrix = torch.tensor([[10, 20, 30], [40, 50, 60]])\n",
        "\n",
        "# To check the shape of a tensor, use the .shape property\n",
        "print(f'Shape of scalar: {scalar.shape}, vector: {vector.shape}, matrix: {matrix.shape}')\n",
        "\n",
        "# To check the number of dimensions of a tensor, use the .ndim property\n",
        "print(f'Number of dimensions of scalar: {scalar.ndim}, vector: {vector.ndim}, matrix: {matrix.ndim}')"
      ]
    },
    {
      "cell_type": "code",
      "execution_count": null,
      "metadata": {
        "colab": {
          "base_uri": "https://localhost:8080/"
        },
        "id": "l-n07G4Mb4z4",
        "outputId": "9c6c620c-e520-4cd5-f3e0-d766a06f32ee"
      },
      "outputs": [
        {
          "name": "stdout",
          "output_type": "stream",
          "text": [
            "tensor([10, 20, 30]) torch.Size([3]) 1\n"
          ]
        }
      ],
      "source": [
        "# create Tensor from NumPy array\n",
        "np_array = np.array([10, 20, 30])\n",
        "tensor_from_np = torch.from_numpy(np_array)\n",
        "print(tensor_from_np, tensor_from_np.shape, tensor_from_np.ndim)"
      ]
    },
    {
      "cell_type": "code",
      "execution_count": null,
      "metadata": {
        "colab": {
          "base_uri": "https://localhost:8080/"
        },
        "id": "5XXgRAPdbsXR",
        "outputId": "69b56a6c-49ce-4d3d-af91-07e2fbaa249c"
      },
      "outputs": [
        {
          "name": "stdout",
          "output_type": "stream",
          "text": [
            "tensor([[0., 0., 0.],\n",
            "        [0., 0., 0.]])\n",
            "tensor([[0., 0., 0.],\n",
            "        [0., 0., 0.]])\n",
            "tensor([[1., 1., 1.],\n",
            "        [1., 1., 1.]])\n",
            "tensor([[5., 5., 5.],\n",
            "        [5., 5., 5.]])\n",
            "tensor([[0.1587, 0.6749, 0.3393],\n",
            "        [0.3154, 0.9015, 0.1423]])\n",
            "tensor([[0.5234, 0.1261, 0.9999],\n",
            "        [0.5749, 0.6171, 0.0021]])\n",
            "tensor([[ 2.1225, -1.3086, -1.4496],\n",
            "        [ 1.6222,  0.1481,  0.6676]])\n",
            "tensor([[3, 0, 2],\n",
            "        [7, 0, 4]])\n",
            "tensor([[0., 0., 0.],\n",
            "        [0., 0., 0.]], dtype=torch.float64)\n"
          ]
        }
      ],
      "source": [
        "# create tensors of specific shapes and values\n",
        "t = torch.zeros(2, 3)                # creates a tensor with 0s, by passing the shape as arguments\n",
        "t_zeros = torch.zeros_like(t)        # zeros_like returns a new tensor, with the same shape as the input tensor, but filled with 0s\n",
        "t_ones = torch.ones(2, 3)            # creates a tensor with 1s\n",
        "t_ones_like = torch.ones_like(t)     # ones_like returns a new tensor, with the same shape as the input tensor, but filled with 1s\n",
        "t_fives = torch.empty(2, 3).fill_(5) # creates a non-initialized tensor and fills it with 5\n",
        "t_rand = torch.rand(2, 3)          # creates a uniform random tensor\n",
        "t_rand_like = torch.rand_like(t)     # rand_like returns a new tensor, with the same shape as the input tensor, but filled with random values\n",
        "t_normal = torch.randn(2, 3)         # creates a normal random tensor\n",
        "t_randint = torch.randint(low=0, high=10, size=(2, 3)) # creates a random tensor with integers between low and high (exclusive)\n",
        "\n",
        "np_array = np.zeros((2, 3))\n",
        "t_from_np = torch.from_numpy(np_array) # creates a tensor from a numpy array\n",
        "\n",
        "print(t)\n",
        "print(t_zeros)\n",
        "print(t_ones)\n",
        "print(t_fives)\n",
        "print(t_rand)\n",
        "print(t_rand_like)\n",
        "print(t_normal)\n",
        "print(t_randint)\n",
        "print(t_from_np)"
      ]
    },
    {
      "cell_type": "code",
      "execution_count": null,
      "metadata": {
        "colab": {
          "base_uri": "https://localhost:8080/"
        },
        "id": "mXqzS2aGf0q2",
        "outputId": "d0e947db-1190-4d13-b32a-7c28088cd809"
      },
      "outputs": [
        {
          "name": "stdout",
          "output_type": "stream",
          "text": [
            "shape: torch.Size([2, 3]) dtype: torch.float32 device: cpu\n",
            "shape: torch.Size([4, 5]) dtype: torch.float64 device: cuda:0\n",
            "t_like.shape: torch.Size([4, 5]) dtype: torch.float64 device: cuda:0\n"
          ]
        }
      ],
      "source": [
        "# tensors created on cpu by default\n",
        "print('shape:', t.shape, 'dtype:', t.dtype, 'device:', t.device)\n",
        "\n",
        "# to create on gpu\n",
        "t_gpu = torch.ones(4, 5, dtype=torch.float64, device=\"cuda\")  # GPU + float64\n",
        "t_like = torch.zeros_like(t_gpu)\n",
        "\n",
        "print(\"shape:\", t_gpu.shape, \"dtype:\", t_gpu.dtype, \"device:\", t_gpu.device)\n",
        "print(\"t_like.shape:\", t_like.shape, \"dtype:\", t_like.dtype, \"device:\", t_like.device)"
      ]
    },
    {
      "cell_type": "code",
      "execution_count": null,
      "metadata": {
        "colab": {
          "base_uri": "https://localhost:8080/"
        },
        "id": "OK32HO-mgp-u",
        "outputId": "04e50864-6229-4cf8-e538-1bfb9b8bed45"
      },
      "outputs": [
        {
          "name": "stdout",
          "output_type": "stream",
          "text": [
            "On GPU: tensor([0, 1, 2, 3, 4], device='cuda:0') cuda:0\n",
            "Back to CPU: tensor([0, 1, 2, 3, 4]) cpu\n"
          ]
        }
      ],
      "source": [
        "# tensor round-trip GPU<->CPU\n",
        "x = torch.arange(5)\n",
        "if torch.cuda.is_available():\n",
        "    x_gpu = x.to(\"cuda\")\n",
        "    print(\"On GPU:\", x_gpu, x_gpu.device)\n",
        "    x_cpu = x_gpu.to(\"cpu\")\n",
        "    print(\"Back to CPU:\", x_cpu, x_cpu.device)\n",
        "else:\n",
        "    print(\"No CUDA detected; staying on CPU:\", x, x.device)"
      ]
    },
    {
      "cell_type": "markdown",
      "metadata": {
        "id": "75WiZFfLebR2"
      },
      "source": [
        "The underscore in `t_fives = torch.empty(2, 3).fill_(5)` signifies that the operation is performed in-place. For example, `t_fives.add_(5)` will add 5 to each element of the tensor `t_fives` in-place. Other examples of in-place operations are `t_fives.mul_(5)`, `t_fives.div_(5)`, etc.\n"
      ]
    },
    {
      "cell_type": "code",
      "execution_count": null,
      "metadata": {
        "colab": {
          "base_uri": "https://localhost:8080/"
        },
        "id": "6Uobprc7b1Dz",
        "outputId": "762f6faa-5fb6-4dba-e9c7-09ebf6d53c30"
      },
      "outputs": [
        {
          "name": "stdout",
          "output_type": "stream",
          "text": [
            "tensor([[10., 10., 10.],\n",
            "        [10., 10., 10.]])\n",
            "tensor([[10., 10., 10.],\n",
            "        [10., 10., 10.]])\n"
          ]
        }
      ],
      "source": [
        "t_fives_add = t_fives + 5\n",
        "print(t_fives_add)\n",
        "t_fives.add_(5) # in-place addition\n",
        "print(t_fives)"
      ]
    },
    {
      "cell_type": "code",
      "execution_count": null,
      "metadata": {
        "colab": {
          "base_uri": "https://localhost:8080/"
        },
        "id": "_bS5Zt9necdC",
        "outputId": "66771a88-f37e-44d7-f3d7-c5fcec6074ee"
      },
      "outputs": [
        {
          "name": "stdout",
          "output_type": "stream",
          "text": [
            "10.0\n",
            "<class 'float'>\n"
          ]
        }
      ],
      "source": [
        "# Accesing the scalar value of a tensor\n",
        "print(t_fives[0, 1].item()) # item() returns the value of a tensor as a standard Python number\n",
        "print(type(t_fives[0, 1].item()))"
      ]
    },
    {
      "cell_type": "markdown",
      "metadata": {
        "id": "4hCDnAXuefoR"
      },
      "source": [
        "#### 2.1 Operate on Tensors"
      ]
    },
    {
      "cell_type": "code",
      "execution_count": null,
      "metadata": {
        "colab": {
          "base_uri": "https://localhost:8080/"
        },
        "id": "N_Cbg5gbedvK",
        "outputId": "e3e79d04-186d-431a-a2a0-0990fedca0ee"
      },
      "outputs": [
        {
          "name": "stdout",
          "output_type": "stream",
          "text": [
            "tensor([[0.0047, 0.7853, 0.8918],\n",
            "        [0.0644, 0.0137, 0.2335]])\n",
            "tensor([[0.0047, 0.7853],\n",
            "        [0.8918, 0.0644],\n",
            "        [0.0137, 0.2335]])\n",
            "tensor([0.0047, 0.7853, 0.8918, 0.0644, 0.0137, 0.2335])\n",
            "tensor([[0.0047, 0.7853, 0.8918, 0.0644, 0.0137, 0.2335]])\n",
            "tensor([[0.0047],\n",
            "        [0.7853],\n",
            "        [0.8918],\n",
            "        [0.0644],\n",
            "        [0.0137],\n",
            "        [0.2335]])\n",
            "tensor([[0.0047, 0.7853],\n",
            "        [0.8918, 0.0644],\n",
            "        [0.0137, 0.2335]])\n",
            "tensor([[0.0047, 0.7853],\n",
            "        [0.8918, 0.0644],\n",
            "        [0.0137, 0.2335]])\n"
          ]
        }
      ],
      "source": [
        "# Reshape\n",
        "t = torch.rand(2, 3)\n",
        "print(t)\n",
        "print(t.reshape(3, 2))\n",
        "print(t.reshape(6))\n",
        "print(t.reshape(1, 6))\n",
        "print(t.reshape(6, 1))\n",
        "print(t.reshape(3, -1)) # -1 means \"infer the correct value from the shape of the tensor\"\n",
        "print(t.view(3, -1)) # view is an alternative to reshape"
      ]
    },
    {
      "cell_type": "markdown",
      "metadata": {
        "id": "YY99d9bhelNo"
      },
      "source": [
        "`view` and `reshape` gave the same result. What's the difference?\n",
        "\n",
        "`view()` will try to change the shape of the tensor while keeping the underlying data allocation the same, thus data will be shared between the two tensors. `reshape()` will create a new underlying memory allocation if necessary.\n",
        "\n",
        "When you use `reshape()` instead of view, the matrix is made contiguous if that is necessary, but otherwise the same data is used. This is nice if you don't care much about memory use. If you want to be sure that you're not accidentally copying a large matrix, `view()` is the way to go.\n",
        "\n",
        "Additional Reading: https://stackoverflow.com/questions/49643225/whats-the-difference-between-reshape-and-view-in-pytorch, https://discuss.pytorch.org/t/whats-the-difference-between-torch-reshape-vs-torch-view/159172/3"
      ]
    },
    {
      "cell_type": "markdown",
      "metadata": {
        "id": "Op1MgXczenhA"
      },
      "source": [
        "#### Pytorch Data Types"
      ]
    },
    {
      "cell_type": "markdown",
      "metadata": {
        "id": "Bc6gS_JqenZY"
      },
      "source": [
        "Available data types include:\n",
        "\n",
        "```python\n",
        "torch.bool\n",
        "torch.int8\n",
        "torch.uint8\n",
        "torch.int16\n",
        "torch.int32\n",
        "torch.int64\n",
        "torch.half = torch.float16\n",
        "torch.float = torch.float32 (default datatype)\n",
        "torch.double = torch.float64\n",
        "torch.bfloat16\n",
        "```\n",
        "\n",
        "When not specified, the default is `torch.float32`, which differs from plain\n",
        "python where the default floating point datatype is `float64`.\n",
        "\n",
        "Ref: https://pytorch.org/tutorials/beginner/introyt/tensors_deeper_tutorial.html"
      ]
    },
    {
      "cell_type": "code",
      "execution_count": null,
      "metadata": {
        "colab": {
          "base_uri": "https://localhost:8080/"
        },
        "id": "ENruARTWejly",
        "outputId": "24511824-9877-487e-a673-d2650bcc1b5c"
      },
      "outputs": [
        {
          "name": "stdout",
          "output_type": "stream",
          "text": [
            "tensor([[1, 1, 1],\n",
            "        [1, 1, 1]], dtype=torch.int16)\n",
            "tensor([[16.5479, 14.9651, 18.5607],\n",
            "        [12.1787,  6.1444, 11.1268]], dtype=torch.float64)\n",
            "tensor([[16, 14, 18],\n",
            "        [12,  6, 11]], dtype=torch.int32)\n",
            "tensor([[ 1.1928,  0.6979, -0.4607],\n",
            "        [ 0.6199, -0.2942,  0.5860]])\n",
            "torch.float32\n"
          ]
        }
      ],
      "source": [
        "a = torch.ones((2, 3), dtype=torch.int16) # creates a tensor with 1s of type int16\n",
        "print(a)\n",
        "\n",
        "b = torch.rand((2, 3), dtype=torch.float64) * 20 # creates a random tensor of type float64 and multiplies it by 20\n",
        "print(b)\n",
        "\n",
        "c = b.to(torch.int32) # converts the tensor of type float64 to type int32\n",
        "print(c)\n",
        "\n",
        "d = torch.randn([2, 3]) # creates a random tensor of type float32\n",
        "print(d)\n",
        "print(d.dtype)"
      ]
    },
    {
      "cell_type": "markdown",
      "metadata": {
        "id": "5BE0YHDEesj1"
      },
      "source": [
        "Also note that when the tensor is the default datatype, the `dtype` is not printed.\n"
      ]
    },
    {
      "cell_type": "code",
      "execution_count": null,
      "metadata": {
        "colab": {
          "base_uri": "https://localhost:8080/"
        },
        "id": "JU06FhuTeq79",
        "outputId": "1ece98e3-cb5d-43b3-c847-7f0f8573b3d6"
      },
      "outputs": [
        {
          "name": "stdout",
          "output_type": "stream",
          "text": [
            "tensor([[ 0.7435,  0.0837, -0.0284,  1.1052, -1.7039,  0.8512],\n",
            "        [-2.8086,  2.1147, -0.3527,  1.8120,  0.4511,  1.1122],\n",
            "        [-0.2346, -0.4508, -0.7801, -0.4661, -1.2432,  0.0638],\n",
            "        [ 0.3198, -0.5995, -1.3254, -0.8066, -0.8307,  1.0488],\n",
            "        [-1.4712, -0.6267,  0.9095, -0.3076, -0.9028,  0.4656]]) torch.float32\n",
            "tensor([[ 0.7435,  0.0837, -0.0284,  1.1052, -1.7039,  0.8512],\n",
            "        [-2.8086,  2.1147, -0.3527,  1.8120,  0.4511,  1.1122],\n",
            "        [-0.2346, -0.4508, -0.7801, -0.4661, -1.2432,  0.0638],\n",
            "        [ 0.3198, -0.5995, -1.3254, -0.8066, -0.8307,  1.0488],\n",
            "        [-1.4712, -0.6267,  0.9095, -0.3076, -0.9028,  0.4656]],\n",
            "       dtype=torch.float64)\n",
            "tensor([[  0,   0,   0,   1, 255,   0],\n",
            "        [254,   2,   0,   1,   0,   1],\n",
            "        [  0,   0,   0,   0, 255,   0],\n",
            "        [  0,   0, 255,   0,   0,   1],\n",
            "        [255,   0,   0,   0,   0,   0]], dtype=torch.uint8)\n"
          ]
        }
      ],
      "source": [
        "t = torch.randn(5, 6)\n",
        "print(t, t.dtype)\n",
        "t = t.double()  # converts to 64-bit float\n",
        "print(t)\n",
        "t = t.byte()    # converts to unsigned 8-bit integer\n",
        "print(t)"
      ]
    },
    {
      "cell_type": "markdown",
      "metadata": {
        "id": "XLu08dZCevq7"
      },
      "source": [
        "#### ``torch.float16`` vs ``torch.float32``\n",
        "\n",
        "- Reduced Memory Usage:   \n",
        "    - ``torch.float16`` uses half as much memory per element compared to ``torch.float32``. This can be significant when dealing with large neural networks or datasets, especially on GPUs with limited memory.    \n",
        "    - It allows you to store and process larger models or batches of data.  \n",
        "    \n",
        "- Faster Computation and Reduced Bandwidth (While transferring from CPU to GPU, or across network connections)\n",
        "\n",
        "- Trade-offs:\n",
        "    - Reduced Precision - may lead to rounding errors in calculations.\n",
        "    - Not all deep learning models and operations are compatible with ``torch.float16``. Some operations may require ``torch.float32`` or higher precision to maintain accuracy.\n",
        "    - Training with ``torch.float16`` can be more challenging as it can lead to convergence issues, especially in complex models."
      ]
    },
    {
      "cell_type": "markdown",
      "metadata": {
        "id": "Q5sfMWrDe1HS"
      },
      "source": [
        "#### Mathematical Operations"
      ]
    },
    {
      "cell_type": "code",
      "execution_count": null,
      "metadata": {
        "colab": {
          "base_uri": "https://localhost:8080/"
        },
        "id": "tPMf9DwXetqP",
        "outputId": "0bd92761-3087-497b-c2d0-5adf382e5e9a"
      },
      "outputs": [
        {
          "name": "stdout",
          "output_type": "stream",
          "text": [
            "a+b = tensor([[2., 2., 2.],\n",
            "        [2., 2., 2.]])\n",
            "\n",
            "c = tensor([[2., 2., 2.],\n",
            "        [2., 2., 2.]])\n",
            "\n",
            "d = tensor([[2., 2., 2.],\n",
            "        [2., 2., 2.]])\n",
            "\n",
            "fours = tensor([[4., 4., 4.],\n",
            "        [4., 4., 4.]])\n",
            "\n",
            "powers2 = tensor([[2., 4., 8.],\n",
            "        [2., 4., 8.]])\n",
            "\n",
            "c/powers2 = tensor([[1.0000, 0.5000, 0.2500],\n",
            "        [1.0000, 0.5000, 0.2500]])\n",
            "\n"
          ]
        }
      ],
      "source": [
        "a = torch.ones(2, 3)\n",
        "b = torch.ones(2, 3)\n",
        "print(f'a+b = {a+b}\\n')\n",
        "\n",
        "c = torch.ones(2, 3) * 2\n",
        "print(f'c = {c}\\n')\n",
        "\n",
        "d = torch.ones(2, 3) + 1 # broadcasting\n",
        "print(f'd = {d}\\n')\n",
        "\n",
        "fours = c ** 2 # element-wise exponentiation\n",
        "print(f'fours = {fours}\\n')\n",
        "\n",
        "powers2 = c ** torch.tensor([1, 2, 3]) # element-wise exponentiation with broadcasting\n",
        "print(f'powers2 = {powers2}\\n')\n",
        "\n",
        "print(f'c/powers2 = {c/powers2}\\n')"
      ]
    },
    {
      "cell_type": "markdown",
      "metadata": {
        "id": "g2nZqVLhe51W"
      },
      "source": [
        "#### Matrix Multiplication:\n",
        "\n",
        "Things to keep in mind:\n",
        "* Inner dimensions must match (Ex: 2x3 and 3x4)\n",
        "* The resulting matrix has the shape of the outer dimensions (Ex: 2x4)"
      ]
    },
    {
      "cell_type": "code",
      "execution_count": null,
      "metadata": {
        "colab": {
          "base_uri": "https://localhost:8080/"
        },
        "id": "DgnExWsce3tu",
        "outputId": "93fd4804-3547-46ce-ff7e-30ded7c4584b"
      },
      "outputs": [
        {
          "name": "stdout",
          "output_type": "stream",
          "text": [
            "tensor([[0.7698, 0.3378, 0.6939, 0.9779],\n",
            "        [0.2282, 0.2790, 0.2625, 0.4850]]) torch.Size([2, 4])\n"
          ]
        }
      ],
      "source": [
        "# Matrix multiplication\n",
        "\n",
        "A = torch.rand(2, 3)\n",
        "B = torch.rand(3, 4)\n",
        "C = torch.mm(A, B) # matrix multiplication\n",
        "print(C, C.shape)\n"
      ]
    },
    {
      "cell_type": "markdown",
      "metadata": {
        "id": "ReOCdGMMe9re"
      },
      "source": [
        "There are other ways of performing matrix multiplication in PyTorch, such as torch.matmul(), torch.bmm(), and the @ operator. Read more at: https://www.geeksforgeeks.org/python-matrix-multiplication-using-pytorch/"
      ]
    },
    {
      "cell_type": "markdown",
      "metadata": {
        "id": "WeAMIWT3fCBm"
      },
      "source": [
        "#### Indexing and Slicing\n",
        "In general PyTorch tensors behave similarly to Numpy arrays. They are zero indexed and support slicing."
      ]
    },
    {
      "cell_type": "code",
      "execution_count": null,
      "metadata": {
        "colab": {
          "base_uri": "https://localhost:8080/"
        },
        "id": "EWC7jIb_e7qS",
        "outputId": "ccaeaa9a-ac75-48d9-a443-eb5945e4f957"
      },
      "outputs": [
        {
          "name": "stdout",
          "output_type": "stream",
          "text": [
            "tensor([[0.6889, 0.4788, 0.5620],\n",
            "        [0.4587, 0.0522, 0.8728]])\n",
            "tensor(0.6889)\n",
            "tensor([0.6889, 0.4788, 0.5620])\n",
            "tensor([0.6889, 0.4587])\n",
            "tensor([[0.6889, 0.4788],\n",
            "        [0.4587, 0.0522]])\n"
          ]
        }
      ],
      "source": [
        "t = torch.rand(2, 3)\n",
        "print(t)\n",
        "print(t[0, 0]) # access a single element\n",
        "print(t[0, :]) # access a row\n",
        "print(t[:, 0]) # access a column\n",
        "print(t[0:2, 0:2]) # access a sub-matrix\n"
      ]
    },
    {
      "cell_type": "code",
      "execution_count": null,
      "metadata": {
        "colab": {
          "base_uri": "https://localhost:8080/"
        },
        "id": "nxXbmH7EfGDW",
        "outputId": "ab923e0f-97fa-43f1-d4f8-a3cc5a63310b"
      },
      "outputs": [
        {
          "name": "stdout",
          "output_type": "stream",
          "text": [
            "tensor([[1.0000, 0.4788, 0.5620],\n",
            "        [0.4587, 0.0522, 0.8728]])\n",
            "tensor([[2.0000, 2.0000, 2.0000],\n",
            "        [0.4587, 0.0522, 0.8728]])\n",
            "tensor([[3.0000, 2.0000, 2.0000],\n",
            "        [3.0000, 0.0522, 0.8728]])\n",
            "tensor([[4.0000, 4.0000, 2.0000],\n",
            "        [4.0000, 4.0000, 0.8728]])\n"
          ]
        }
      ],
      "source": [
        "t[0, 0] = 1 # modify a single element\n",
        "print(t)\n",
        "t[0, :] = 2 # modify a row with implicit broadcasting\n",
        "print(t)\n",
        "t[:, 0] = 3 # modify a column with implicit broadcasting\n",
        "print(t)\n",
        "t[0:2, 0:2] = 4 # modify a sub-matrix with implicit broadcasting\n",
        "print(t)"
      ]
    },
    {
      "cell_type": "markdown",
      "metadata": {
        "id": "8jrcFfORfI7I"
      },
      "source": [
        "#### Other Commonly used tensor methods"
      ]
    },
    {
      "cell_type": "code",
      "execution_count": null,
      "metadata": {
        "colab": {
          "base_uri": "https://localhost:8080/"
        },
        "id": "u9TF113afHjn",
        "outputId": "e29ca819-a811-4ce7-93de-578045afb121"
      },
      "outputs": [
        {
          "name": "stdout",
          "output_type": "stream",
          "text": [
            "Before permute: torch.Size([2, 3, 4])\n",
            "After permute: torch.Size([3, 2, 4])\n",
            "After flatten on 2nd dim: torch.Size([3, 8])\n",
            "After flattening the resultant tensor: torch.Size([24])\n"
          ]
        },
        {
          "data": {
            "text/plain": [
              "tensor([[0, 1, 2],\n",
              "        [0, 1, 2]])"
            ]
          },
          "execution_count": 19,
          "metadata": {},
          "output_type": "execute_result"
        }
      ],
      "source": [
        "t = torch.randn(2,3)\n",
        "t.max()                 # returns the maximum value in a tensor\n",
        "t.argmax()              # returns the index of the maximum value in a tensor.\n",
        "t.sum(dim=0)            # sum across rows\n",
        "t.sum(dim=1)            # sum across columns\n",
        "t.t()                   # transpose\n",
        "t.numel()               # number of elements in tensor\n",
        "t.nonzero()             # indices of non-zero elements\n",
        "t.squeeze()             # removes size 1 dimensions\n",
        "t.unsqueeze(0)          # inserts a dimension\n",
        "\n",
        "t = torch.rand(2, 3, 4)\n",
        "print('Before permute:', t.shape)\n",
        "t = t.permute(1, 0, 2)         # permutes dimensions: 1st dim becomes 2nd, 2nd becomes 1st, 3rd remains 3rd\n",
        "print('After permute:', t.shape)\n",
        "t = t.flatten(start_dim=1)     # flattens a tensor from the 2nd dimension\n",
        "print('After flatten on 2nd dim:', t.shape)\n",
        "t = t.flatten()                # flattens a tensor from the 1st dimension by default\n",
        "print('After flattening the resultant tensor:', t.shape)\n",
        "\n",
        "torch.dist(torch.tensor([3.0, 1.0]), torch.tensor([1.0, 2.0]), p=2) # computes the distance between two tensors, Returns the p-norm of (torch.tensor([3.0, 1.0]) - torch.tensor([1.0, 2.0])\n",
        "\n",
        "torch.arange(0, 10)     # tensor([0, 1, 2, 3, 4, 5, 6, 7, 8, 9])\n",
        "torch.eye(3, 3)         # creates a 3x3 matrix with 1s in the diagonal (identity in this case)\n",
        "t = torch.arange(0, 3)  # tensor([0, 1, 2])\n",
        "torch.cat((t, t))       # tensor([0, 1, 2, 0, 1, 2])\n",
        "torch.stack((t, t))     # tensor([[0, 1, 2],\n",
        "                        #         [0, 1, 2]])"
      ]
    },
    {
      "cell_type": "markdown",
      "metadata": {
        "id": "bWv8JgF7fM-f"
      },
      "source": [
        "#### Randomness\n",
        "\n",
        "Having a piece of code that behaves randomly and that spews out different results every time you run it is not a good idea. Athough, as programmers, we do not deal with true randomness, we deal with psuedo-randomness. But torch.randn does seem to give out different results everytime we run it, and by definition is random isn't it?\n",
        "\n",
        "In a way, yes. But, the random numbers are not quite truly random. They are pseudo-random numbers, which means that a number generator is used to generate a sequence of numbers that appear to be random, but they are not. The sequence of numbers generated by a pseudo-random number generator is determined by a fixed initial value called the seed. Every time we give it the same seed, it will give us the same sequence of numbers."
      ]
    },
    {
      "cell_type": "code",
      "execution_count": null,
      "metadata": {
        "colab": {
          "base_uri": "https://localhost:8080/"
        },
        "id": "vS-l3fM1fK14",
        "outputId": "5ee10f90-8b35-4bf3-d2c1-96c5ffb44d5f"
      },
      "outputs": [
        {
          "name": "stdout",
          "output_type": "stream",
          "text": [
            "tensor([[False, False, False],\n",
            "        [False, False, False]])\n"
          ]
        }
      ],
      "source": [
        "# Without setting the seed, the results of the random operations will be different every time\n",
        "\n",
        "random_1 = torch.rand(2, 3)\n",
        "random_2 = torch.rand(2, 3)\n",
        "\n",
        "print(random_1 == random_2)"
      ]
    },
    {
      "cell_type": "code",
      "execution_count": null,
      "metadata": {
        "colab": {
          "base_uri": "https://localhost:8080/"
        },
        "id": "rXuFP_bLfRBs",
        "outputId": "fbe3edce-1f19-415b-9d02-fda63079767a"
      },
      "outputs": [
        {
          "name": "stdout",
          "output_type": "stream",
          "text": [
            "tensor([[False, False, False],\n",
            "        [False, False, False]])\n",
            "\n",
            "tensor([[True, True, True],\n",
            "        [True, True, True]])\n",
            "tensor([[True, True, True],\n",
            "        [True, True, True]])\n",
            "\n",
            "tensor([[True, True, True],\n",
            "        [True, True, True]])\n"
          ]
        }
      ],
      "source": [
        "# By setting the seed, the results of the random operations will be the same every time\n",
        "\n",
        "torch.manual_seed(42)\n",
        "random_1 = torch.rand(2, 3)\n",
        "random_2 = torch.rand(2, 3)     # the second call to torch.rand(2, 3) will return different values than the first call\n",
        "print(random_1 == random_2)\n",
        "print()\n",
        "\n",
        "torch.manual_seed(42)\n",
        "random_3 = torch.rand(2, 3)\n",
        "random_4 = torch.rand(2, 3)\n",
        "print(random_1 == random_3)\n",
        "print(random_2 == random_4)\n",
        "print()\n",
        "\n",
        "torch.manual_seed(42)\n",
        "random_5 = torch.rand(2, 3)\n",
        "torch.manual_seed(42)           # need to reset the seed again, to get the same values for the second call to torch.rand(2, 3)\n",
        "random_6 = torch.rand(2, 3)\n",
        "print(random_5 == random_6)"
      ]
    },
    {
      "cell_type": "markdown",
      "metadata": {
        "id": "QRJuiBKJfVVX"
      },
      "source": [
        "When training a neural network, we use random initialization of weights, shuffling of data during training, and dropout, among other techniques. All these involve randomness, which can lead to slightly different results each time we run the code unless we set a seed. This can be problematic when trying to replicate someone else’s results or debugging your own code.\n",
        "\n",
        "Additional Reading: https://pieriantraining.com/how-to-set-the-seed-in-pytorch-for-reproducible-results/"
      ]
    },
    {
      "cell_type": "markdown",
      "metadata": {
        "id": "KA0G_LwVwSV7"
      },
      "source": [
        "### Exercise 1 — Create & Inspect a Tensor\n",
        "**Task:** Create a 1D tensor with values `[0, 1, 2, 3, 4]` on CPU (default).  \n",
        "Print **exactly**: `device=..., dtype=..., shape=..., data=...` in **one line** using the shown format.\n"
      ]
    },
    {
      "cell_type": "code",
      "execution_count": null,
      "metadata": {
        "id": "HkuxgV_QfUln"
      },
      "outputs": [],
      "source": [
        "# === TODO: fill only the blanks marked with __FILL__ ===\n",
        "\n",
        "x = torch.arange(__FILL__)                   # -> should be [0,1,2,3,4]\n",
        "print(f\"device={x.device}, dtype={x.dtype}, shape={tuple(x.shape)}, data={x.tolist()}\")\n",
        "\n",
        "# Expected: device=cpu, dtype=torch.int64, shape=(5,), data=[0, 1, 2, 3, 4]\n"
      ]
    },
    {
      "cell_type": "markdown",
      "metadata": {
        "id": "vvf1eUGOwi9z"
      },
      "source": [
        "\n",
        "### Exercise 2 — Tensor Ranks\n",
        "**Task:** Create (a) scalar `s=7`, (b) vector `v=[1,2,3,4]`, (c) matrix `M=[[1,2],[3,4]]`, (d) rank-3 `T` of shape `(2,2,3)` filled with `0..11` in row-major order.  \n",
        "Print `name: ndim=?, shape=?` for each in the order `s, v, M, T`.\n"
      ]
    },
    {
      "cell_type": "code",
      "execution_count": null,
      "metadata": {
        "id": "AVrkcSI8wilu"
      },
      "outputs": [],
      "source": [
        "# === TODO: fill only the blanks ===\n",
        "\n",
        "s = torch.tensor(__FILL__)\n",
        "v = torch.tensor(__FILL__)\n",
        "M = torch.tensor(__FILL__)\n",
        "T = torch.arange(__FILL__).reshape(__FILL__)\n",
        "\n",
        "for name, t in [(\"s\", s), (\"v\", v), (\"M\", M), (\"T\", T)]:\n",
        "    print(f\"{name}: ndim={t.ndim}, shape={tuple(t.shape)}\")\n",
        "\n",
        "# Expected shapes: s:(), v:(4,), M:(2,2), T:(2,2,3)"
      ]
    },
    {
      "cell_type": "markdown",
      "metadata": {
        "id": "1uogFVAowuIQ"
      },
      "source": [
        "### Exercise 3 — Same Shape, Different Constructors\n",
        "\n",
        "**Task:** Create three tensors of shape `(3,4)` using: `zeros`, `ones`, and `arange(...).reshape(3,4)`.  \n",
        "Convert all to `torch.float32` and print `name: dtype=?, first_row=?` for each in order `A, B, C`.\n"
      ]
    },
    {
      "cell_type": "code",
      "execution_count": null,
      "metadata": {
        "id": "xY8nr7MXwyd6"
      },
      "outputs": [],
      "source": [
        "# === TODO: fill only the blanks ===\n",
        "\n",
        "A = torch.zeros(__FILL__)\n",
        "B = torch.ones(__FILL__)\n",
        "C = torch.arange(__FILL__).reshape(__FILL__)\n",
        "\n",
        "A = A.__FILL__()     # convert to float32\n",
        "B = B.__FILL__()\n",
        "C = C.__FILL__()\n",
        "\n",
        "for name, t in [(\"A\", A), (\"B\", B), (\"C\", C)]:\n",
        "    print(f\"{name}: dtype={t.dtype}, first_row={t[0].tolist()}\")\n",
        "\n",
        "# Expected first rows: A->[0.0,...], B->[1.0,...], C->[0.0,1.0,2.0,3.0]"
      ]
    },
    {
      "cell_type": "markdown",
      "metadata": {
        "id": "CCKzfi9iw5-7"
      },
      "source": [
        "### Exercise 4 — In-Place Effects with `view` vs `reshape`\n",
        "**Task:** Create `a = ones((2,3))`, then `b = a.view(-1)`, `c = a.reshape(-1)`.  \n",
        "Call `a.add_(5)`. Print `a`, `b`, `c` before and after.  \n",
        "(You only need to fill the creation lines and the in-place op.)\n"
      ]
    },
    {
      "cell_type": "code",
      "execution_count": null,
      "metadata": {
        "id": "SAoc1xxOw8Zf"
      },
      "outputs": [],
      "source": [
        "# === TODO: fill only the blanks ===\n",
        "\n",
        "a = torch.__FILL__(2, 3)\n",
        "b = a.view(__FILL__)\n",
        "c = a.reshape(__FILL__)\n",
        "\n",
        "print(\"Before add_:\", \"a=\", a, \" \", \"b=\", b, \" \", \"c=\", c, sep=\"\")\n",
        "a.__FILL__(5)  # in-place add\n",
        "print(\"\\nAfter add_:\\n\", \"a=\", a, \"\\n\", \"b=\", b, \"\\n\", \"c=\", c, sep=\"\")"
      ]
    },
    {
      "cell_type": "markdown",
      "metadata": {
        "id": "pgB7OAt2xNpL"
      },
      "source": [
        "### Exercise 5 — Contiguity and `view`\n",
        "\n",
        "**Task:** Create `t = torch.arange(24).reshape(2,3,4)`, then `u = t.permute(1,0,2)`.  \n",
        "Attempt `u.view(-1)` in a try/except and record whether it failed. Then call `u = u.contiguous()` and view again.  \n",
        "Print `first_view_failed=?, after_contiguous_shape=?`.\n"
      ]
    },
    {
      "cell_type": "code",
      "execution_count": null,
      "metadata": {
        "id": "a62GvaHXxQhy"
      },
      "outputs": [],
      "source": [
        "# === TODO: fill only the blanks ===\n",
        "\n",
        "t = torch.arange(24).reshape(2, 3, 4)\n",
        "u = t.permute(1, 0, 2)\n",
        "\n",
        "failed_first = False\n",
        "try:\n",
        "    _ = u.view(-1)\n",
        "except RuntimeError:\n",
        "    failed_first = True\n",
        "\n",
        "u = u.__FILL__()\n",
        "flat = u.view(__FILL__)\n",
        "print(f\"first_view_failed={failed_first}, after_contiguous_shape={tuple(flat.shape)}\")\n",
        "\n",
        "# Expected: first_view_failed=True, after_contiguous_shape=(24,)"
      ]
    },
    {
      "cell_type": "markdown",
      "metadata": {
        "id": "hh9A0mX5xUAO"
      },
      "source": [
        "\n",
        "### Exercise 6 — Casting & Exact Comparison\n",
        "\n",
        "**Task:** Create `x16 = [[1.5,2.25],[3.5,4.75]]` with dtype `float16`, cast to `float32` as `x32`.  \n",
        "Print both and `torch.allclose(x32, x16.float())`.\n"
      ]
    },
    {
      "cell_type": "code",
      "execution_count": null,
      "metadata": {
        "id": "yiT1JW1_xV9M"
      },
      "outputs": [],
      "source": [
        "# === TODO: fill only the blanks ===\n",
        "\n",
        "x16 = torch.tensor([[1.5, 2.25], [3.5, 4.75]], dtype=torch.float16)\n",
        "x32 = x16.__FILL__()\n",
        "print(\"x16:\", x16)\n",
        "print(\"x32:\", x32)\n",
        "print(\"allclose:\", torch.allclose(x32, x16.__FILL__()))\n"
      ]
    },
    {
      "cell_type": "markdown",
      "metadata": {
        "id": "FuBg1LI9xZDZ"
      },
      "source": [
        "\n",
        "### Exercise 7 — Broadcasting with Fixed Values\n",
        "\n",
        "**Task:** Create `A = ones((2,3))`, `b = tensor([10,20,30])`. Compute `A + b`, `A * b`.  \n",
        "Attempt `A + tensor([1,2])` in try/except and report if it failed.  \n",
        "Print results in the given labels.\n"
      ]
    },
    {
      "cell_type": "code",
      "execution_count": null,
      "metadata": {
        "id": "xZnet60wxa44"
      },
      "outputs": [],
      "source": [
        "# === TODO: fill only the blanks ===\n",
        "\n",
        "A = torch.ones(2, 3)\n",
        "b = torch.tensor([10, 20, 30])\n",
        "\n",
        "sum_ok = __FILL__\n",
        "mul_ok = __FILL__\n",
        "\n",
        "failed = False\n",
        "try:\n",
        "    _ = A + torch.tensor([1, 2])\n",
        "except RuntimeError:\n",
        "    failed = True\n",
        "\n",
        "print(\"A+b:\\n\", sum_ok)\n",
        "print(\"A*b:\\n\", mul_ok)\n",
        "print(\"invalid_broadcast_failed:\", failed)\n"
      ]
    },
    {
      "cell_type": "markdown",
      "metadata": {
        "id": "9D2ogfcZxi3S"
      },
      "source": [
        "### Exercise 8 — Compare matmul APIs with Constants\n",
        "\n",
        "**Task:** Let  \n",
        "`P = [[1,2,3],[4,5,6]]` (float32),  \n",
        "`Q = [[1,0,0,1,2],[0,1,0,2,3],[0,0,1,3,4]]` (float32).  \n",
        "Compute `P@Q`, `torch.mm(P,Q)`, `torch.matmul(P,Q)` and print whether all results are equal.\n"
      ]
    },
    {
      "cell_type": "code",
      "execution_count": null,
      "metadata": {
        "id": "_GQtzq3exkXo"
      },
      "outputs": [],
      "source": [
        "# === TODO: fill only the blanks ===\n",
        "P = torch.tensor([[1, 2, 3], [4, 5, 6]], dtype=torch.float32)\n",
        "Q = torch.tensor([[1, 0, 0, 1, 2],\n",
        "                  [0, 1, 0, 2, 3],\n",
        "                  [0, 0, 1, 3, 4]], dtype=torch.float32)\n",
        "\n",
        "out1 = __FILL__\n",
        "out2 = __FILL__\n",
        "out3 = __FILL__\n",
        "\n",
        "print(\"all_equal:\", torch.allclose(out1, out2) and torch.allclose(out2, out3))"
      ]
    },
    {
      "cell_type": "markdown",
      "metadata": {
        "id": "EwqffANwxoiB"
      },
      "source": [
        "\n",
        "### Exercise 9 — Advanced Slicing & Assignment\n",
        "\n",
        "**Task:** Create `T = torch.arange(1,13).reshape(3,4)`.  \n",
        "(a) Set last column to zeros; (b) Swap first two rows; (c) Extract submatrix rows `[0:2]`, cols `[1:3]`.  \n",
        "Print *Original*, then after (a), after (b), and the submatrix for (c).\n"
      ]
    },
    {
      "cell_type": "code",
      "execution_count": null,
      "metadata": {
        "id": "ySt7msSmxqpT"
      },
      "outputs": [],
      "source": [
        "# === TODO: fill only the blanks ===\n",
        "\n",
        "T = torch.arange(1, 13).reshape(3, 4)\n",
        "print(\"Original:\\n\", T)\n",
        "\n",
        "T[:, -1] = __FILL__\n",
        "print(\"\\n(a) Last col zeroed:\\n\", T)\n",
        "\n",
        "T[[0, 1]] = T[[__FILL__]]\n",
        "print(\"\\n(b) First two rows swapped:\\n\", T)\n",
        "\n",
        "sub = T[0:2, __FILL__]\n",
        "print(\"\\n(c) Submatrix [0:2, 1:3]:\\n\", sub)\n"
      ]
    },
    {
      "cell_type": "markdown",
      "metadata": {
        "id": "kUPbg6Oexvcu"
      },
      "source": [
        "### Exercise 10 — Reproducible Mini-Experiment\n",
        "\n",
        "**Task:** Set torch manual seed as 123. Create `m1 = nn.Linear(4,2)`. Use fixed input `x = torch.arange(20).reshape(5,4).float()`.  \n",
        "Re-seed manual seed = 123 and create `m2 = nn.Linear(4,2)`.  \n",
        "Compute forward outputs and print `equal_forwards: True/False` (should be True).\n"
      ]
    },
    {
      "cell_type": "code",
      "execution_count": null,
      "metadata": {
        "id": "V-xHTlQdxx8q"
      },
      "outputs": [],
      "source": [
        "# === TODO: fill only the blanks ===\n",
        "\n",
        "torch.__FILL__(123)\n",
        "m1 = nn.Linear(4, 2)\n",
        "x = torch.arange(20).reshape(5, 4).float()\n",
        "out1 = m1(x)\n",
        "\n",
        "torch.__FILL__(123)\n",
        "m2 = nn.Linear(4, 2)\n",
        "out2 = m2(x)\n",
        "\n",
        "print(\"equal_forwards:\", torch.allclose(out1, out2))\n"
      ]
    },
    {
      "cell_type": "markdown",
      "metadata": {
        "id": "-97tRxs8zG67"
      },
      "source": [
        "## End of Discussion"
      ]
    }
  ],
  "metadata": {
    "accelerator": "GPU",
    "colab": {
      "gpuType": "T4",
      "provenance": [],
      "include_colab_link": true
    },
    "kernelspec": {
      "display_name": "Python 3",
      "name": "python3"
    },
    "language_info": {
      "name": "python"
    }
  },
  "nbformat": 4,
  "nbformat_minor": 0
}